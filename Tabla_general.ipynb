{
 "cells": [
  {
   "cell_type": "code",
   "execution_count": 37,
   "metadata": {},
   "outputs": [
    {
     "name": "stdout",
     "output_type": "stream",
     "text": [
      "   IdSede  NombreSede\n",
      "0       0   CIUDAD U.\n",
      "1       1       S.J.L\n",
      "2       2      CHILCA\n",
      "3       3  VILLA RICA\n",
      "4       4     HUARMEY\n",
      "5       5     CHANCAY\n",
      "6       6      HUARAL\n",
      "7       7        OYÓN\n"
     ]
    }
   ],
   "source": [
    "import numpy as np \n",
    "import pandas as pd\n",
    "sedesdf = pd.DataFrame({ \n",
    "    'IdSede': [0, 1, 2, 3, 4, 5, 6, 7], \n",
    "    'NombreSede': ['CIUDAD U.', 'S.J.L', 'CHILCA','VILLA RICA','HUARMEY','CHANCAY','HUARAL','OYÓN'] \n",
    "}) \n",
    "print(sedesdf)\n",
    "df_sedes_csv = pd.DataFrame(sedesdf)\n",
    "df_sedes_csv.to_csv('sedes.csv', index=False, encoding=\"utf-8\")"
   ]
  },
  {
   "cell_type": "code",
   "execution_count": 38,
   "metadata": {},
   "outputs": [
    {
     "name": "stdout",
     "output_type": "stream",
     "text": [
      "       CODIGO                  APELLIDOS Y NOMBRES  \\\n",
      "0      859632           ABAD VERA, NILTON ANDERSON   \n",
      "1      848256    ABANTO CCAHUANA, NICOLE ALEXANDRA   \n",
      "2      858518  ABANTO CHOQUEHUANCA, KAREN ESTEFANY   \n",
      "3      862333      ABANTO GUIZADO, MATHIAS JOAQUIN   \n",
      "4      856511           ABANTO MARCOS, BRISA MARIA   \n",
      "...       ...                                  ...   \n",
      "57882  146772      SILVESTRE ATOCHE, MATTEO MARTIN   \n",
      "57883  182148   TUPIÑO COLQUI, ANGIELI MARIA SOFIA   \n",
      "57884  743153            CÁCERES SANDOVAL, EDUARDO   \n",
      "57885  815534       BAYLON CAMPOJO, LUIS FABRIZZIO   \n",
      "57886  195220  BALLON CHANDUVI, REYNA LEONOR ALEXA   \n",
      "\n",
      "                             ESCUELA PROFESIONAL  PUNTAJE  MERITO E.P  \\\n",
      "0                                MEDICINA HUMANA   618.75         NaN   \n",
      "1                                MEDICINA HUMANA  950.375         NaN   \n",
      "2                                MEDICINA HUMANA   1035.5         NaN   \n",
      "3                                MEDICINA HUMANA  667.375         NaN   \n",
      "4                                MEDICINA HUMANA  356.875         NaN   \n",
      "...                                          ...      ...         ...   \n",
      "57882  TEC. MED. TERAPIA FÍSICA Y REHABILITACIÓN   608.25         1.0   \n",
      "57883  TEC. MED. TERAPIA FÍSICA Y REHABILITACIÓN  560.875         NaN   \n",
      "57884                        COMUNICACIÓN SOCIAL  981.625         1.0   \n",
      "57885                           EDUCACIÓN FÍSICA  979.501         1.0   \n",
      "57886                                 PSICOLOGÍA  629.625         1.0   \n",
      "\n",
      "      OBSERVACI&OacuteN  IdModalidad Proceso  \n",
      "0                   NaN            0  2025-1  \n",
      "1                   NaN            0  2025-1  \n",
      "2                   NaN            0  2025-1  \n",
      "3                   NaN            0  2025-1  \n",
      "4                   NaN            0  2025-1  \n",
      "...                 ...          ...     ...  \n",
      "57882   ALCANZO VACANTE           11  2025-2  \n",
      "57883               NaN           11  2025-2  \n",
      "57884   ALCANZO VACANTE           11  2025-2  \n",
      "57885   ALCANZO VACANTE           11  2025-2  \n",
      "57886   ALCANZO VACANTE           11  2025-2  \n",
      "\n",
      "[57887 rows x 8 columns]\n",
      "     IdCarrera                                       Carrera\n",
      "0           11                               MEDICINA HUMANA\n",
      "1           12                                   OBSTETRICIA\n",
      "2           13                                    ENFERMERÍA\n",
      "3          141  TEC. MED. LAB. CLÍNICO Y ANATOMÍA PATOLÓGICA\n",
      "4          142     TEC. MED. TERAPIA FÍSICA Y REHABILITACIÓN\n",
      "..         ...                                           ...\n",
      "106       1454               COMPUTACIÓN CIENTÍFICA - CHILCA\n",
      "107       1623                   INGENIERÍA GEOLÓGICA - OYÓN\n",
      "108       1653                    INGENIERÍA DE MINAS - OYÓN\n",
      "109        195                            INGENIERIA NUCLEAR\n",
      "110        196                        INGENIERIA MECATRONICA\n",
      "\n",
      "[111 rows x 2 columns]\n"
     ]
    }
   ],
   "source": [
    "import numpy as np\n",
    "import pandas as pd\n",
    "# Leer los datos del archivo CSV\n",
    "file_path1 = 'tabla_resultados_unidos.csv'\n",
    "file_path2 = 'tabla_carreras_unidas.csv'\n",
    "df1 = pd.read_csv(file_path1)\n",
    "df2 = pd.read_csv(file_path2)\n",
    "print(df1)\n",
    "print(df2)"
   ]
  },
  {
   "cell_type": "code",
   "execution_count": 39,
   "metadata": {},
   "outputs": [
    {
     "name": "stdout",
     "output_type": "stream",
     "text": [
      "CODIGO                     0\n",
      "APELLIDOS Y NOMBRES        0\n",
      "ESCUELA PROFESIONAL        0\n",
      "PUNTAJE                  560\n",
      "MERITO E.P             51055\n",
      "OBSERVACI&OacuteN      50344\n",
      "IdModalidad                0\n",
      "Proceso                    0\n",
      "dtype: int64\n"
     ]
    }
   ],
   "source": [
    "print(df1.isna().sum())"
   ]
  },
  {
   "cell_type": "code",
   "execution_count": 40,
   "metadata": {},
   "outputs": [
    {
     "name": "stdout",
     "output_type": "stream",
     "text": [
      "   CODIGO         APELLIDOS Y NOMBRES ESCUELA PROFESIONAL PUNTAJE  MERITO E.P  \\\n",
      "0  859632  ABAD VERA, NILTON ANDERSON     MEDICINA HUMANA  618.75         0.0   \n",
      "\n",
      "  OBSERVACIÓN  IdModalidad Proceso  \n",
      "0           0            0  2025-1  \n",
      "CODIGO                 0\n",
      "APELLIDOS Y NOMBRES    0\n",
      "ESCUELA PROFESIONAL    0\n",
      "PUNTAJE                0\n",
      "MERITO E.P             0\n",
      "OBSERVACIÓN            0\n",
      "IdModalidad            0\n",
      "Proceso                0\n",
      "dtype: int64\n",
      "       CODIGO                      APELLIDOS Y NOMBRES  \\\n",
      "38753  186036       RAMOS QUISPE, ANNIE DE LOS ÁNGELES   \n",
      "38754  115166         MORALES DAMIAN, ANDREA KATHERINE   \n",
      "38755  165188  ENRIQUEZ SOLDEVILLA, LUCERO CYNTHIA SOL   \n",
      "38756  121449                   ESTACIO MEZA, GABRIELA   \n",
      "38757  168402          PACOTAYPE APAZA, ANYHELI MILENA   \n",
      "...       ...                                      ...   \n",
      "57841  309556               MOZO VARGAS, RENZO ENRIQUE   \n",
      "57842  265810                PADILLA RIVAS, BRYAN KEEN   \n",
      "57843  312141            GOMEZ HUALLPA, MARGUEL JHULIO   \n",
      "57854  260122             PALOMINO PEÑA, LUDWIN MIJAEL   \n",
      "57860  231128           BERNAL HERNÁNDEZ, RYAN GABRIEL   \n",
      "\n",
      "                                ESCUELA PROFESIONAL  \\\n",
      "38753  TEC. MED. LAB. CLÍNICO Y ANATOMÍA PATOLÓGICA   \n",
      "38754     TEC. MED. TERAPIA FÍSICA Y REHABILITACIÓN   \n",
      "38755                          TEC. MED. RADIOLOGÍA   \n",
      "38756                          TEC. MED. RADIOLOGÍA   \n",
      "38757                          TEC. MED. RADIOLOGÍA   \n",
      "...                                             ...   \n",
      "57841                        INGENIERÍA METALÚRGICA   \n",
      "57842                              INGENIERÍA CIVIL   \n",
      "57843                      ARQUITECTURA Y URBANISMO   \n",
      "57854              INGENIERÍA DE TELECOMUNICACIONES   \n",
      "57860                        INGENIERÍA DE SOFTWARE   \n",
      "\n",
      "                                                 PUNTAJE  MERITO E.P  \\\n",
      "38753  Art. 68º Reglamento de Admisión / Ley Universi...         0.0   \n",
      "38754  Art. 68º Reglamento de Admisión / Ley Universi...         0.0   \n",
      "38755  Art. 68º Reglamento de Admisión / Ley Universi...         0.0   \n",
      "38756  Art. 68º Reglamento de Admisión / Ley Universi...         0.0   \n",
      "38757  Art. 68º Reglamento de Admisión / Ley Universi...         0.0   \n",
      "...                                                  ...         ...   \n",
      "57841  Art. 68º Reglamento de Admisión / Ley Universi...         0.0   \n",
      "57842  Art. 68º Reglamento de Admisión / Ley Universi...         0.0   \n",
      "57843  Art. 68º Reglamento de Admisión / Ley Universi...         0.0   \n",
      "57854  Art. 68º Reglamento de Admisión / Ley Universi...         0.0   \n",
      "57860  Art. 68º Reglamento de Admisión / Ley Universi...         0.0   \n",
      "\n",
      "           OBSERVACIÓN  IdModalidad Proceso  \n",
      "38753  ALCANZO VACANTE            1  2025-2  \n",
      "38754  ALCANZO VACANTE            1  2025-2  \n",
      "38755  ALCANZO VACANTE            1  2025-2  \n",
      "38756  ALCANZO VACANTE            1  2025-2  \n",
      "38757  ALCANZO VACANTE            1  2025-2  \n",
      "...                ...          ...     ...  \n",
      "57841  ALCANZO VACANTE            8  2025-2  \n",
      "57842  ALCANZO VACANTE            8  2025-2  \n",
      "57843  ALCANZO VACANTE            8  2025-2  \n",
      "57854  ALCANZO VACANTE            8  2025-2  \n",
      "57860  ALCANZO VACANTE            9  2025-2  \n",
      "\n",
      "[151 rows x 8 columns]\n",
      "       CODIGO                  APELLIDOS Y NOMBRES  \\\n",
      "0      859632           ABAD VERA, NILTON ANDERSON   \n",
      "1      848256    ABANTO CCAHUANA, NICOLE ALEXANDRA   \n",
      "2      858518  ABANTO CHOQUEHUANCA, KAREN ESTEFANY   \n",
      "3      862333      ABANTO GUIZADO, MATHIAS JOAQUIN   \n",
      "4      856511           ABANTO MARCOS, BRISA MARIA   \n",
      "...       ...                                  ...   \n",
      "57882  146772      SILVESTRE ATOCHE, MATTEO MARTIN   \n",
      "57883  182148   TUPIÑO COLQUI, ANGIELI MARIA SOFIA   \n",
      "57884  743153            CÁCERES SANDOVAL, EDUARDO   \n",
      "57885  815534       BAYLON CAMPOJO, LUIS FABRIZZIO   \n",
      "57886  195220  BALLON CHANDUVI, REYNA LEONOR ALEXA   \n",
      "\n",
      "                             ESCUELA PROFESIONAL  PUNTAJE  MERITO E.P  \\\n",
      "0                                MEDICINA HUMANA   618.75         0.0   \n",
      "1                                MEDICINA HUMANA  950.375         0.0   \n",
      "2                                MEDICINA HUMANA   1035.5         0.0   \n",
      "3                                MEDICINA HUMANA  667.375         0.0   \n",
      "4                                MEDICINA HUMANA  356.875         0.0   \n",
      "...                                          ...      ...         ...   \n",
      "57882  TEC. MED. TERAPIA FÍSICA Y REHABILITACIÓN   608.25         1.0   \n",
      "57883  TEC. MED. TERAPIA FÍSICA Y REHABILITACIÓN  560.875         0.0   \n",
      "57884                        COMUNICACIÓN SOCIAL  981.625         1.0   \n",
      "57885                           EDUCACIÓN FÍSICA  979.501         1.0   \n",
      "57886                                 PSICOLOGÍA  629.625         1.0   \n",
      "\n",
      "           OBSERVACIÓN  IdModalidad Proceso  \n",
      "0                    0            0  2025-1  \n",
      "1                    0            0  2025-1  \n",
      "2                    0            0  2025-1  \n",
      "3                    0            0  2025-1  \n",
      "4                    0            0  2025-1  \n",
      "...                ...          ...     ...  \n",
      "57882  ALCANZO VACANTE           11  2025-2  \n",
      "57883                0           11  2025-2  \n",
      "57884  ALCANZO VACANTE           11  2025-2  \n",
      "57885  ALCANZO VACANTE           11  2025-2  \n",
      "57886  ALCANZO VACANTE           11  2025-2  \n",
      "\n",
      "[57887 rows x 8 columns]\n"
     ]
    }
   ],
   "source": [
    "df1['PUNTAJE'] = df1['PUNTAJE'].fillna(0)\n",
    "df1['MERITO E.P'] = df1['MERITO E.P'].fillna(0)\n",
    "df1 = df1.rename(columns={'OBSERVACI&OacuteN':'OBSERVACIÓN'})\n",
    "df1['OBSERVACIÓN'] = df1['OBSERVACIÓN'].fillna(0)\n",
    "print(df1.head(1))\n",
    "print(df1.isna().sum())\n",
    "df_filtro_art = df1[(df1['PUNTAJE'] == 'Art. 68º Reglamento de Admisión / Ley Universitaria N.° 30220 y sus modificatorias')]\n",
    "print(df_filtro_art)\n",
    "df1['PUNTAJE'] = df1['PUNTAJE'].replace('Art. 68º Reglamento de Admisión / Ley Universitaria N.° 30220 y sus modificatorias',0)\n",
    "print(df1)"
   ]
  },
  {
   "cell_type": "code",
   "execution_count": 41,
   "metadata": {},
   "outputs": [
    {
     "name": "stdout",
     "output_type": "stream",
     "text": [
      "Empty DataFrame\n",
      "Columns: [CODIGO, APELLIDOS Y NOMBRES, ESCUELA PROFESIONAL, PUNTAJE, MERITO E.P, OBSERVACIÓN, IdModalidad, Proceso]\n",
      "Index: []\n"
     ]
    }
   ],
   "source": [
    "df_filtro_art = df1[(df1['PUNTAJE'] == 'Art. 68º Reglamento de Admisión / Ley Universitaria N.° 30220 y sus modificatorias')]\n",
    "print(df_filtro_art)"
   ]
  },
  {
   "cell_type": "code",
   "execution_count": 42,
   "metadata": {},
   "outputs": [
    {
     "name": "stdout",
     "output_type": "stream",
     "text": [
      "30\n"
     ]
    }
   ],
   "source": [
    "df_modalidad = df1[(df1['IdModalidad']==3) & (df1['OBSERVACIÓN']=='ALCANZO VACANTE')]\n",
    "filas, columnas = df_modalidad.shape\n",
    "print(filas)"
   ]
  },
  {
   "cell_type": "code",
   "execution_count": 43,
   "metadata": {},
   "outputs": [
    {
     "name": "stdout",
     "output_type": "stream",
     "text": [
      "<class 'pandas.core.frame.DataFrame'>\n",
      "RangeIndex: 57887 entries, 0 to 57886\n",
      "Data columns (total 10 columns):\n",
      " #   Column               Non-Null Count  Dtype  \n",
      "---  ------               --------------  -----  \n",
      " 0   CODIGO               57887 non-null  int64  \n",
      " 1   APELLIDOS Y NOMBRES  57887 non-null  object \n",
      " 2   ESCUELA PROFESIONAL  57887 non-null  object \n",
      " 3   PUNTAJE              57887 non-null  object \n",
      " 4   MERITO E.P           57887 non-null  float64\n",
      " 5   OBSERVACIÓN          57887 non-null  object \n",
      " 6   IdModalidad          57887 non-null  int64  \n",
      " 7   Proceso              57887 non-null  object \n",
      " 8   id_modalidad         57887 non-null  int64  \n",
      " 9   Modalidad            57887 non-null  object \n",
      "dtypes: float64(1), int64(3), object(6)\n",
      "memory usage: 4.4+ MB\n",
      "None\n"
     ]
    }
   ],
   "source": [
    "tobla_modalidades = 'tabla_modalidades_unidas.csv'\n",
    "df_modalidades =pd.read_csv(tobla_modalidades)\n",
    "df_combinar1= df1.merge(df_modalidades, left_on=\"IdModalidad\", right_on=\"id_modalidad\", how=\"left\")\n",
    "print(df_combinar1.info())\n"
   ]
  },
  {
   "cell_type": "code",
   "execution_count": 44,
   "metadata": {},
   "outputs": [
    {
     "name": "stdout",
     "output_type": "stream",
     "text": [
      "<class 'pandas.core.frame.DataFrame'>\n",
      "RangeIndex: 57887 entries, 0 to 57886\n",
      "Data columns (total 9 columns):\n",
      " #   Column               Non-Null Count  Dtype  \n",
      "---  ------               --------------  -----  \n",
      " 0   CODIGO               57887 non-null  int64  \n",
      " 1   APELLIDOS Y NOMBRES  57887 non-null  object \n",
      " 2   id_modalidad         57887 non-null  int64  \n",
      " 3   Modalidad            57887 non-null  object \n",
      " 4   MERITO E.P           57887 non-null  float64\n",
      " 5   OBSERVACIÓN          57887 non-null  object \n",
      " 6   ESCUELA PROFESIONAL  57887 non-null  object \n",
      " 7   PUNTAJE              57887 non-null  object \n",
      " 8   Proceso              57887 non-null  object \n",
      "dtypes: float64(1), int64(2), object(6)\n",
      "memory usage: 4.0+ MB\n",
      "None\n"
     ]
    }
   ],
   "source": [
    "df_seleccionar_datos_1 = df_combinar1[[\"CODIGO\",\"APELLIDOS Y NOMBRES\",\"id_modalidad\",\"Modalidad\",\"MERITO E.P\",\"OBSERVACIÓN\",\"ESCUELA PROFESIONAL\",\"PUNTAJE\",\"Proceso\"]]\n",
    "print(df_seleccionar_datos_1.info())\n"
   ]
  },
  {
   "cell_type": "code",
   "execution_count": 45,
   "metadata": {},
   "outputs": [
    {
     "name": "stdout",
     "output_type": "stream",
     "text": [
      "<class 'pandas.core.frame.DataFrame'>\n",
      "RangeIndex: 57887 entries, 0 to 57886\n",
      "Data columns (total 11 columns):\n",
      " #   Column               Non-Null Count  Dtype  \n",
      "---  ------               --------------  -----  \n",
      " 0   CODIGO               57887 non-null  int64  \n",
      " 1   APELLIDOS Y NOMBRES  57887 non-null  object \n",
      " 2   id_modalidad         57887 non-null  int64  \n",
      " 3   Modalidad            57887 non-null  object \n",
      " 4   MERITO E.P           57887 non-null  float64\n",
      " 5   OBSERVACIÓN          57887 non-null  object \n",
      " 6   ESCUELA PROFESIONAL  57887 non-null  object \n",
      " 7   PUNTAJE              57887 non-null  object \n",
      " 8   Proceso              57887 non-null  object \n",
      " 9   IdCarrera            57887 non-null  int64  \n",
      " 10  Carrera              57887 non-null  object \n",
      "dtypes: float64(1), int64(3), object(7)\n",
      "memory usage: 4.9+ MB\n",
      "None\n"
     ]
    }
   ],
   "source": [
    "tabla_carreras = 'tabla_carreras_unidas.csv'\n",
    "df_carreras = pd.read_csv(tabla_carreras)\n",
    "df_combinar2 = df_seleccionar_datos_1.merge(df_carreras, left_on=\"ESCUELA PROFESIONAL\", right_on=\"Carrera\")\n",
    "print(df_combinar2.info())"
   ]
  },
  {
   "cell_type": "code",
   "execution_count": 46,
   "metadata": {},
   "outputs": [
    {
     "name": "stdout",
     "output_type": "stream",
     "text": [
      "<class 'pandas.core.frame.DataFrame'>\n",
      "RangeIndex: 57887 entries, 0 to 57886\n",
      "Data columns (total 10 columns):\n",
      " #   Column               Non-Null Count  Dtype  \n",
      "---  ------               --------------  -----  \n",
      " 0   CODIGO               57887 non-null  int64  \n",
      " 1   APELLIDOS Y NOMBRES  57887 non-null  object \n",
      " 2   IdCarrera            57887 non-null  int64  \n",
      " 3   Carrera              57887 non-null  object \n",
      " 4   id_modalidad         57887 non-null  int64  \n",
      " 5   Modalidad            57887 non-null  object \n",
      " 6   MERITO E.P           57887 non-null  float64\n",
      " 7   OBSERVACIÓN          57887 non-null  object \n",
      " 8   PUNTAJE              57887 non-null  object \n",
      " 9   Proceso              57887 non-null  object \n",
      "dtypes: float64(1), int64(3), object(6)\n",
      "memory usage: 4.4+ MB\n",
      "None\n",
      "CODIGO                 0\n",
      "APELLIDOS Y NOMBRES    0\n",
      "IdCarrera              0\n",
      "Carrera                0\n",
      "id_modalidad           0\n",
      "Modalidad              0\n",
      "MERITO E.P             0\n",
      "OBSERVACIÓN            0\n",
      "PUNTAJE                0\n",
      "Proceso                0\n",
      "dtype: int64\n"
     ]
    }
   ],
   "source": [
    "df_seleccionar_datos_2 = df_combinar2[[\"CODIGO\",\"APELLIDOS Y NOMBRES\",\"IdCarrera\",\"Carrera\",\"id_modalidad\",\"Modalidad\",\"MERITO E.P\",\"OBSERVACIÓN\",\"PUNTAJE\",\"Proceso\"]]\n",
    "print(df_seleccionar_datos_2.info())\n",
    "print(df_seleccionar_datos_2.isna().sum())"
   ]
  },
  {
   "cell_type": "code",
   "execution_count": 47,
   "metadata": {},
   "outputs": [
    {
     "name": "stdout",
     "output_type": "stream",
     "text": [
      "<class 'pandas.core.frame.DataFrame'>\n",
      "RangeIndex: 57887 entries, 0 to 57886\n",
      "Data columns (total 11 columns):\n",
      " #   Column               Non-Null Count  Dtype  \n",
      "---  ------               --------------  -----  \n",
      " 0   CODIGO               57887 non-null  int64  \n",
      " 1   APELLIDOS Y NOMBRES  57887 non-null  object \n",
      " 2   IdCarrera            57887 non-null  int64  \n",
      " 3   Carrera              57887 non-null  object \n",
      " 4   id_modalidad         57887 non-null  int64  \n",
      " 5   Modalidad            57887 non-null  object \n",
      " 6   MERITO E.P           57887 non-null  float64\n",
      " 7   OBSERVACIÓN          57887 non-null  object \n",
      " 8   PUNTAJE              57887 non-null  object \n",
      " 9   Proceso              57887 non-null  object \n",
      " 10  AREA                 57887 non-null  object \n",
      "dtypes: float64(1), int64(3), object(7)\n",
      "memory usage: 4.9+ MB\n",
      "None\n",
      "CODIGO                 0\n",
      "APELLIDOS Y NOMBRES    0\n",
      "IdCarrera              0\n",
      "Carrera                0\n",
      "id_modalidad           0\n",
      "Modalidad              0\n",
      "MERITO E.P             0\n",
      "OBSERVACIÓN            0\n",
      "PUNTAJE                0\n",
      "Proceso                0\n",
      "AREA                   0\n",
      "dtype: int64\n"
     ]
    }
   ],
   "source": [
    "def colocar_area(carrera):\n",
    "    if 'MEDICINA' in carrera:\n",
    "        return 'A'\n",
    "    elif 'OBSTETRICIA' in carrera:\n",
    "        return 'A'\n",
    "    elif 'ENFERMERIA' in carrera:\n",
    "        return 'A'\n",
    "    elif 'TEC. MED.' in carrera:\n",
    "        return 'A'\n",
    "    elif 'NUTRICIÓN' in carrera:\n",
    "        return 'A'\n",
    "    elif 'FARMACIA Y BIOQUÍMICA' in carrera:\n",
    "        return 'A'\n",
    "    elif 'CIENCIAS DE LOS ALIMENTOS' in carrera:\n",
    "        return 'A'\n",
    "    elif 'TOXICOLOGÍA' in carrera:\n",
    "        return 'A'\n",
    "    elif 'ODONTOLOGÍA' in carrera:\n",
    "        return 'A'\n",
    "    elif 'MEDICINA VETERINARIA' in carrera:\n",
    "        return 'A'\n",
    "    elif 'PSICOLOGÍA' in carrera:\n",
    "        return 'A'\n",
    "    elif 'QUÍMICA' in carrera:\n",
    "        return 'B'\n",
    "    elif 'CIENCIAS BIOLÓGICAS' in carrera:\n",
    "        return 'B'\n",
    "    elif 'GENÉTICA Y BIOTECNOLOGÍA' in carrera:\n",
    "        return 'B'\n",
    "    elif 'FÍSICA' in carrera:\n",
    "        return 'B'\n",
    "    elif 'MATEMÁTICA' in carrera:\n",
    "        return 'B'\n",
    "    elif 'ESTADÍSTICA' in carrera:\n",
    "        return 'B'\n",
    "    elif 'INVESTIGACIÓN OPERATIVA' in carrera:\n",
    "        return 'B'\n",
    "    elif 'COMPUTACIÓN CIENTÍFICA' in carrera:\n",
    "        return 'B'\n",
    "    elif 'INGENIERÍA' in carrera:\n",
    "        return 'C'\n",
    "    elif 'CIENCIA DE LA COMPUTACIÓN' in carrera:\n",
    "        return 'C'\n",
    "    elif 'ARQUITECTURA' in carrera:\n",
    "        return 'C'\n",
    "    elif 'ADMINISTRACIÓN' in carrera:\n",
    "        return 'D'\n",
    "    elif 'MARKETING' in carrera:\n",
    "        return 'D'\n",
    "    elif 'CONTABILIDAD' in carrera:\n",
    "        return 'D'\n",
    "    elif 'GESTIÓN' in carrera:\n",
    "        return 'D'\n",
    "    elif 'AUDITORIA' in carrera:\n",
    "        return 'D'\n",
    "    elif 'PRESUPUESTO' in carrera:\n",
    "        return 'D'\n",
    "    elif 'CRIMINALÍSTICA' in carrera:\n",
    "        return 'D'\n",
    "    elif 'ECONOMÍA' in carrera:\n",
    "        return 'D'\n",
    "    else:\n",
    "        return 'E'\n",
    "df_seleccionar_datos_2['AREA'] = df_seleccionar_datos_2['Carrera'].apply(colocar_area)\n",
    "print(df_seleccionar_datos_2.info())\n",
    "print(df_seleccionar_datos_2.isna().sum())"
   ]
  },
  {
   "cell_type": "code",
   "execution_count": 48,
   "metadata": {},
   "outputs": [
    {
     "name": "stdout",
     "output_type": "stream",
     "text": [
      "<class 'pandas.core.frame.DataFrame'>\n",
      "RangeIndex: 57887 entries, 0 to 57886\n",
      "Data columns (total 12 columns):\n",
      " #   Column               Non-Null Count  Dtype  \n",
      "---  ------               --------------  -----  \n",
      " 0   CODIGO               57887 non-null  int64  \n",
      " 1   APELLIDOS Y NOMBRES  57887 non-null  object \n",
      " 2   IdCarrera            57887 non-null  int64  \n",
      " 3   Carrera              57887 non-null  object \n",
      " 4   id_modalidad         57887 non-null  int64  \n",
      " 5   Modalidad            57887 non-null  object \n",
      " 6   MERITO E.P           57887 non-null  float64\n",
      " 7   OBSERVACIÓN          57887 non-null  object \n",
      " 8   PUNTAJE              57887 non-null  object \n",
      " 9   Proceso              57887 non-null  object \n",
      " 10  AREA                 57887 non-null  object \n",
      " 11  Id_area              57887 non-null  int64  \n",
      "dtypes: float64(1), int64(4), object(7)\n",
      "memory usage: 5.3+ MB\n",
      "None\n"
     ]
    }
   ],
   "source": [
    "def id_area(area):\n",
    "    if area == 'A':\n",
    "        return 0\n",
    "    elif area == 'B':\n",
    "        return 1\n",
    "    elif area == 'C':\n",
    "        return 2\n",
    "    elif area == 'D':\n",
    "        return 3\n",
    "    elif area == 'E':\n",
    "        return 4\n",
    "df_seleccionar_datos_2['Id_area'] = df_seleccionar_datos_2['AREA'].apply(id_area)\n",
    "print(df_seleccionar_datos_2.info())"
   ]
  },
  {
   "cell_type": "code",
   "execution_count": 49,
   "metadata": {},
   "outputs": [
    {
     "name": "stdout",
     "output_type": "stream",
     "text": [
      "<class 'pandas.core.frame.DataFrame'>\n",
      "RangeIndex: 57887 entries, 0 to 57886\n",
      "Data columns (total 13 columns):\n",
      " #   Column               Non-Null Count  Dtype  \n",
      "---  ------               --------------  -----  \n",
      " 0   CODIGO               57887 non-null  int64  \n",
      " 1   APELLIDOS Y NOMBRES  57887 non-null  object \n",
      " 2   IdCarrera            57887 non-null  int64  \n",
      " 3   Carrera              57887 non-null  object \n",
      " 4   id_modalidad         57887 non-null  int64  \n",
      " 5   Modalidad            57887 non-null  object \n",
      " 6   MERITO E.P           57887 non-null  float64\n",
      " 7   OBSERVACIÓN          57887 non-null  object \n",
      " 8   PUNTAJE              57887 non-null  object \n",
      " 9   Proceso              57887 non-null  object \n",
      " 10  AREA                 57887 non-null  object \n",
      " 11  Id_area              57887 non-null  int64  \n",
      " 12  Nombre_area          57887 non-null  object \n",
      "dtypes: float64(1), int64(4), object(8)\n",
      "memory usage: 5.7+ MB\n",
      "None\n"
     ]
    }
   ],
   "source": [
    "def nombre_area(area):\n",
    "    if area == 'A':\n",
    "        return 'CIENCIAS DE LA SALUD'\n",
    "    elif area == 'B':\n",
    "        return 'CIENCIAS BÁSICAS'\n",
    "    elif area == 'C':\n",
    "        return 'INGENIERÍA'\n",
    "    elif area == 'D':\n",
    "        return 'CIENCIAS ECONÓMICAS Y DE LA GESTIÓN'\n",
    "    elif area == 'E':\n",
    "        return 'HUMANIDADES Y CIENCIAS JURÍDICAS Y SOCIALES'\n",
    "\n",
    "df_seleccionar_datos_2['Nombre_area'] = df_seleccionar_datos_2['AREA'].apply(nombre_area)\n",
    "print(df_seleccionar_datos_2.info())"
   ]
  },
  {
   "cell_type": "code",
   "execution_count": 50,
   "metadata": {},
   "outputs": [
    {
     "name": "stdout",
     "output_type": "stream",
     "text": [
      "   CODIGO         APELLIDOS Y NOMBRES  IdCarrera          Carrera  \\\n",
      "0  859632  ABAD VERA, NILTON ANDERSON         11  MEDICINA HUMANA   \n",
      "\n",
      "   id_modalidad                                          Modalidad  \\\n",
      "0             0  educación básica regular (ebr) y educación bás...   \n",
      "\n",
      "   MERITO E.P OBSERVACIÓN PUNTAJE Proceso AREA  Id_area           Nombre_area  \\\n",
      "0         0.0           0  618.75  2025-1    A        0  CIENCIAS DE LA SALUD   \n",
      "\n",
      "   Id_proceso  \n",
      "0           1  \n",
      "<class 'pandas.core.frame.DataFrame'>\n",
      "RangeIndex: 57887 entries, 0 to 57886\n",
      "Data columns (total 14 columns):\n",
      " #   Column               Non-Null Count  Dtype  \n",
      "---  ------               --------------  -----  \n",
      " 0   CODIGO               57887 non-null  int64  \n",
      " 1   APELLIDOS Y NOMBRES  57887 non-null  object \n",
      " 2   IdCarrera            57887 non-null  int64  \n",
      " 3   Carrera              57887 non-null  object \n",
      " 4   id_modalidad         57887 non-null  int64  \n",
      " 5   Modalidad            57887 non-null  object \n",
      " 6   MERITO E.P           57887 non-null  float64\n",
      " 7   OBSERVACIÓN          57887 non-null  object \n",
      " 8   PUNTAJE              57887 non-null  object \n",
      " 9   Proceso              57887 non-null  object \n",
      " 10  AREA                 57887 non-null  object \n",
      " 11  Id_area              57887 non-null  int64  \n",
      " 12  Nombre_area          57887 non-null  object \n",
      " 13  Id_proceso           57887 non-null  int64  \n",
      "dtypes: float64(1), int64(5), object(8)\n",
      "memory usage: 6.2+ MB\n",
      "None\n"
     ]
    }
   ],
   "source": [
    "def codigo_proceso(proceso):\n",
    "    if proceso == '2025-1':\n",
    "        return 1\n",
    "    elif proceso == '2025-2':\n",
    "        return 2\n",
    "df_seleccionar_datos_2['Id_proceso'] = df_seleccionar_datos_2['Proceso'].apply(codigo_proceso)\n",
    "print(df_seleccionar_datos_2.head(1))\n",
    "print(df_seleccionar_datos_2.info())"
   ]
  },
  {
   "cell_type": "code",
   "execution_count": 51,
   "metadata": {},
   "outputs": [
    {
     "name": "stdout",
     "output_type": "stream",
     "text": [
      "<class 'pandas.core.frame.DataFrame'>\n",
      "RangeIndex: 57887 entries, 0 to 57886\n",
      "Data columns (total 14 columns):\n",
      " #   Column               Non-Null Count  Dtype \n",
      "---  ------               --------------  ----- \n",
      " 0   CODIGO               57887 non-null  int64 \n",
      " 1   APELLIDOS Y NOMBRES  57887 non-null  object\n",
      " 2   IdCarrera            57887 non-null  int64 \n",
      " 3   Carrera              57887 non-null  object\n",
      " 4   id_modalidad         57887 non-null  int64 \n",
      " 5   Modalidad            57887 non-null  object\n",
      " 6   MERITO E.P           57887 non-null  int64 \n",
      " 7   OBSERVACIÓN          57887 non-null  object\n",
      " 8   PUNTAJE              57887 non-null  object\n",
      " 9   Proceso              57887 non-null  object\n",
      " 10  AREA                 57887 non-null  object\n",
      " 11  Id_area              57887 non-null  int64 \n",
      " 12  Nombre_area          57887 non-null  object\n",
      " 13  Id_proceso           57887 non-null  int64 \n",
      "dtypes: int64(6), object(8)\n",
      "memory usage: 6.2+ MB\n",
      "None\n"
     ]
    }
   ],
   "source": [
    "df_seleccionar_datos_2['MERITO E.P'] = df_seleccionar_datos_2['MERITO E.P'].astype(int)\n",
    "df_seleccionar_datos_2['PUNTAJE'] = df_seleccionar_datos_2['PUNTAJE'].astype(str).str.replace('.', ',')\n",
    "print(df_seleccionar_datos_2.info())\n",
    "df_seleccionar_datos_2.to_csv('TABLAGENERAL.csv',index=False)"
   ]
  },
  {
   "cell_type": "code",
   "execution_count": 52,
   "metadata": {},
   "outputs": [],
   "source": [
    "# separamos por columnas\n",
    "df_seleccionar_datos_tabla_general = df_seleccionar_datos_2[[\"CODIGO\",\"IdCarrera\",\"id_modalidad\",\"Id_area\",\"Id_proceso\",\"MERITO E.P\",\"OBSERVACIÓN\",\"PUNTAJE\"]]\n",
    "df_seleccionar_datos_alumno = df_seleccionar_datos_2[[\"CODIGO\",\"APELLIDOS Y NOMBRES\"]]\n",
    "df_seleccionar_datos_carrera = df_seleccionar_datos_2[[\"IdCarrera\",\"Carrera\"]]\n",
    "df_seleccionar_datos_modalidad = df_seleccionar_datos_2[[\"id_modalidad\",\"Modalidad\"]]\n",
    "df_seleccionar_datos_area = df_seleccionar_datos_2[[\"Id_area\",\"AREA\",\"Nombre_area\"]]\n",
    "df_seleccionar_datos_proceso = df_seleccionar_datos_2[[\"Id_proceso\",\"Proceso\"]]"
   ]
  },
  {
   "cell_type": "code",
   "execution_count": 53,
   "metadata": {},
   "outputs": [],
   "source": [
    "# Exportamos a csv\n",
    "df_seleccionar_datos_tabla_general.to_csv('RESULTADOS.csv',index=False)\n",
    "df_seleccionar_datos_alumno.to_csv('ALUMNO.csv',index=False)\n",
    "df_seleccionar_datos_carrera.to_csv('CARRERA.csv',index=False)\n",
    "df_seleccionar_datos_modalidad.to_csv('MODALIDADES.csv',index=False)\n",
    "df_seleccionar_datos_area.to_csv('AREAS.csv',index=False)\n",
    "df_seleccionar_datos_proceso.to_csv('HECHOS.csv',index=False)"
   ]
  },
  {
   "cell_type": "code",
   "execution_count": 54,
   "metadata": {},
   "outputs": [
    {
     "name": "stdout",
     "output_type": "stream",
     "text": [
      "<class 'pandas.core.frame.DataFrame'>\n",
      "RangeIndex: 57887 entries, 0 to 57886\n",
      "Data columns (total 5 columns):\n",
      " #   Column        Non-Null Count  Dtype \n",
      "---  ------        --------------  ----- \n",
      " 0   IdCarrera     57887 non-null  int64 \n",
      " 1   Id_proceso    57887 non-null  int64 \n",
      " 2   id_modalidad  57887 non-null  int64 \n",
      " 3   PUNTAJE       57887 non-null  object\n",
      " 4   OBSERVACIÓN   57887 non-null  object\n",
      "dtypes: int64(3), object(2)\n",
      "memory usage: 2.2+ MB\n",
      "None\n"
     ]
    }
   ],
   "source": [
    "nueva_tabla = 'RESULTADOS.csv'\n",
    "df_nueva_tabla = pd.read_csv(nueva_tabla)\n",
    "df_nueva_tabla = df_nueva_tabla[[\"IdCarrera\",\"Id_proceso\",\"id_modalidad\",\"PUNTAJE\",\"OBSERVACIÓN\"]]\n",
    "print(df_nueva_tabla.info())"
   ]
  },
  {
   "cell_type": "code",
   "execution_count": 89,
   "metadata": {},
   "outputs": [
    {
     "name": "stdout",
     "output_type": "stream",
     "text": [
      "     IdCarrera  Id_proceso  id_modalidad PUNTAJE_MAX PUNTAJE_MIN\n",
      "0           11           1             0    1628,875    1353,625\n",
      "1           11           1             1     1523,25    1194,375\n",
      "2           11           1             2     944,875     944,875\n",
      "3           11           1             4     948,875     832,375\n",
      "4           11           1             6    1325,375    1305,375\n",
      "..         ...         ...           ...         ...         ...\n",
      "400       1815           1             4     882,875     882,875\n",
      "401       1816           1             0      822,25      456,25\n",
      "402       1924           1             0       962,0    1025,375\n",
      "403       1924           1             1      319,25      319,25\n",
      "404       1924           1             4       401,0       401,0\n",
      "\n",
      "[405 rows x 5 columns]\n"
     ]
    }
   ],
   "source": [
    "# Filtrar por OBSERVACIÓN = \"ALCANZO VACANTE\"\n",
    "df_filtrado = df_nueva_tabla[df_nueva_tabla[\"OBSERVACIÓN\"] == \"ALCANZO VACANTE\"]\n",
    "\n",
    "# Agrupar por IdCarrera y Id_proceso y obtener máximo y mínimo de PUNTAJE\n",
    "df_resultado = df_filtrado.groupby([\"IdCarrera\", \"Id_proceso\",\"id_modalidad\"])[\"PUNTAJE\"].agg(['max', 'min']).reset_index()\n",
    "\n",
    "# Renombrar columnas para mayor claridad\n",
    "df_resultado.rename(columns={\"max\": \"PUNTAJE_MAX\", \"min\": \"PUNTAJE_MIN\"}, inplace=True)\n",
    "\n",
    "print(df_resultado)\n",
    "df_resultado.to_csv('PuntajesMaxMinPorIdCarreraIdProcesoIdModalidad.csv', index=False)"
   ]
  }
 ],
 "metadata": {
  "kernelspec": {
   "display_name": "Python 3",
   "language": "python",
   "name": "python3"
  },
  "language_info": {
   "codemirror_mode": {
    "name": "ipython",
    "version": 3
   },
   "file_extension": ".py",
   "mimetype": "text/x-python",
   "name": "python",
   "nbconvert_exporter": "python",
   "pygments_lexer": "ipython3",
   "version": "3.12.6"
  }
 },
 "nbformat": 4,
 "nbformat_minor": 2
}
